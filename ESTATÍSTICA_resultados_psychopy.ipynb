{
  "nbformat": 4,
  "nbformat_minor": 0,
  "metadata": {
    "colab": {
      "provenance": [],
      "mount_file_id": "1MSDZLOmjwvzccGRQ4qh8zwsbUAptFNbI",
      "authorship_tag": "ABX9TyPsfbUIPHpHgmpZ3qge8Ph7"
    },
    "kernelspec": {
      "name": "python3",
      "display_name": "Python 3"
    },
    "language_info": {
      "name": "python"
    }
  },
  "cells": [
    {
      "cell_type": "markdown",
      "source": [
        "- the table wich we store data is a Data Frame \n",
        "- Data Frime ins a 2D data structure that can store data of different types\n",
        "- each column in a DF is a Series\n"
      ],
      "metadata": {
        "id": "7DUJ2JDSykit"
      }
    },
    {
      "cell_type": "markdown",
      "source": [
        "#carregando dados"
      ],
      "metadata": {
        "id": "Is8ecyJZYu44"
      }
    },
    {
      "cell_type": "code",
      "source": [
        "import pandas as pd\n",
        "import matplotlib.pyplot as plt\n",
        "import numpy as np\n",
        "import os\n",
        "\n",
        "directory = r'/content/drive/MyDrive/PSYCHOPY/resultados'\n",
        "files = os.listdir(directory)\n",
        "\n",
        "data=[]\n",
        "\n",
        "for filename in files:\n",
        "    path = os.path.join(directory, filename) \n",
        "\n",
        "    if os.path.isfile(path):\n",
        "        df = pd.read_excel(path)\n",
        "        data.append(df)"
      ],
      "metadata": {
        "id": "CYU-J62KnjcB"
      },
      "execution_count": null,
      "outputs": []
    },
    {
      "cell_type": "markdown",
      "source": [
        "___________________________________________________________________________\n",
        "#resultado individual"
      ],
      "metadata": {
        "id": "QxhphgmO7HQz"
      }
    },
    {
      "cell_type": "code",
      "source": [
        "df = pd.read_excel(r'/content/drive/MyDrive/PSYCHOPY/resultados/eric_resp.xlsx')"
      ],
      "metadata": {
        "id": "kLOLDbnJ71i9"
      },
      "execution_count": null,
      "outputs": []
    },
    {
      "cell_type": "code",
      "source": [
        "rt1 = []\n",
        "for i in range(1,5):\n",
        "    rt = df.loc[ df[\"key_resp_{}.corr\".format(i)] ==1, \"key_resp_{}.rt\".format(i)].values\n",
        "    rt1.append(rt)"
      ],
      "metadata": {
        "id": "LTk7yxdk7OhO"
      },
      "execution_count": null,
      "outputs": []
    },
    {
      "cell_type": "code",
      "source": [
        "mean_rt = np.concatenate((rt1)).mean()\n",
        "print(mean_rt)"
      ],
      "metadata": {
        "colab": {
          "base_uri": "https://localhost:8080/"
        },
        "id": "_nxpO9Ai8Imr",
        "outputId": "1acb7e66-eac4-4472-f467-9a54278c49d0"
      },
      "execution_count": null,
      "outputs": [
        {
          "output_type": "stream",
          "name": "stdout",
          "text": [
            "5.239871865010718\n"
          ]
        }
      ]
    },
    {
      "cell_type": "markdown",
      "source": [
        "____________________________________________________________________________\n",
        "# response time x reflected or not images "
      ],
      "metadata": {
        "id": "5Xyrn48JHAjr"
      }
    },
    {
      "cell_type": "code",
      "source": [
        "#média de todos os sujeitos\n",
        "\n",
        "def rt_reflect(data):\n",
        "    reflect = []\n",
        "    not_reflect = []\n",
        "\n",
        "    for f in range(len(data)):\n",
        "        for i in range(1,5): \n",
        "            only_reflect = data[f].loc[(data[f][\"key_resp_{}.keys\".format(i)].str.contains('_R') & data[f][\"key_resp_{}.corr\".format(i)] ==1), \"key_resp_{}.rt\".format(i)].values\n",
        "            n_reflect = data[f].loc[~(data[f][\"key_resp_{}.keys\".format(i)].str.contains('_R') & data[f][\"key_resp_{}.corr\".format(i)] ==1), \"key_resp_{}.rt\".format(i)].values\n",
        "            reflect.append(only_reflect)\n",
        "            not_reflect.append(n_reflect)\n",
        "\n",
        "    mean_ref = np.concatenate((reflect)).mean()    \n",
        "    mean_nref = np.concatenate((not_reflect)).mean() \n",
        "    return mean_ref, mean_nref"
      ],
      "metadata": {
        "id": "oHY17dNnrmj9"
      },
      "execution_count": null,
      "outputs": []
    },
    {
      "cell_type": "code",
      "source": [
        "mean_ref, mean_nref = rt_reflect(data)"
      ],
      "metadata": {
        "id": "7RRnWMgHr3W_"
      },
      "execution_count": null,
      "outputs": []
    },
    {
      "cell_type": "code",
      "source": [
        "import matplotlib.pyplot as plt\n",
        "\n",
        "fig, ax = plt.subplots(figsize = (8,6))\n",
        "\n",
        "plt.bar((2,4),(mean_ref, mean_nref), color = 'Black', label = 'média dos sujeitos')\n",
        "\n",
        "plt.xticks((2, 4), ('R', 'NR'))\n",
        "plt.yticks(np.arange(0, 6, 0.5))\n",
        "plt.legend(loc = 0)\n",
        "\n",
        "plt.ylabel('response time (s)')\n",
        "plt.xlabel('R = reflected images   |   NR = not reflected')\n",
        "plt.title('RT x Reflected or not image')"
      ],
      "metadata": {
        "id": "KXhNsk_BWfqp"
      },
      "execution_count": null,
      "outputs": []
    },
    {
      "cell_type": "markdown",
      "source": [
        "____________________________________________________________________________\n",
        "# response time x angle orientation"
      ],
      "metadata": {
        "id": "Ns7mOyEBHI7c"
      }
    },
    {
      "cell_type": "code",
      "source": [
        "blocks_angle = [[[((data[i].loc[(data[i][\"key_resp_{}.keys\".format(j)].str.contains('_{}'.format(k)) & data[i][\"key_resp_{}.corr\".format(j)] ==1), \n",
        "                             \"key_resp_{}.rt\".format(j)]).values) for k in np.arange(0,200,50)] for j in range(1,5)] for i in range(len(data))]"
      ],
      "metadata": {
        "id": "te0rv3li3e0L"
      },
      "execution_count": null,
      "outputs": []
    },
    {
      "cell_type": "code",
      "source": [
        "#média dos sujeitos - angulo 0°\n",
        "zero_mean = np.concatenate(np.array([[blocks_angle[i][j][0] for i in range(0,3)] for j in range(0,4)], dtype = object).flatten()).mean()\n",
        "\n",
        "#média dos sujeitos - angulo 50°\n",
        "fif_mean  = np.concatenate(np.array([[blocks_angle[i][j][1] for i in range(0,3)] for j in range(0,4)], dtype = object).flatten()).mean()\n",
        "\n",
        "#média dos sujeitos - angulo 100°\n",
        "hund_mean = np.concatenate(np.array([[blocks_angle[i][j][2] for i in range(0,3)] for j in range(0,4)], dtype = object).flatten()).mean()\n",
        "\n",
        "#média dos sujeitos - angulo 150°\n",
        "fifh_mean = np.concatenate(np.array([[blocks_angle[i][j][3] for i in range(0,3)] for j in range(0,4)], dtype = object).flatten()).mean()"
      ],
      "metadata": {
        "id": "hVvO0bys8bu1"
      },
      "execution_count": null,
      "outputs": []
    },
    {
      "cell_type": "code",
      "source": [
        "fig, ax = plt.subplots(figsize = (8,6))\n",
        "\n",
        "plt.bar((0, 50, 100, 150),(zero_mean, fif_mean, hund_mean, fifh_mean), color = 'Black', width = 15, label = 'média dos sujeitos')\n",
        "\n",
        "plt.xticks((0, 50, 100, 150), ('0°', '50°', '100°', '150°'))\n",
        "\n",
        "plt.yticks(np.arange(0, 7, 0.5))\n",
        "plt.legend(loc = 0)\n",
        "\n",
        "plt.ylabel('response time (s)')\n",
        "plt.xlabel('angle rotation (°)')\n",
        "plt.title('Response time X Angle rotation')"
      ],
      "metadata": {
        "colab": {
          "base_uri": "https://localhost:8080/",
          "height": 421
        },
        "id": "Cw2Gig2FVCJU",
        "outputId": "a0e90468-a8ef-41b7-eaa1-a5c582d82ddc"
      },
      "execution_count": null,
      "outputs": [
        {
          "output_type": "execute_result",
          "data": {
            "text/plain": [
              "Text(0.5, 1.0, 'Response time X Angle rotation')"
            ]
          },
          "metadata": {},
          "execution_count": 182
        },
        {
          "output_type": "display_data",
          "data": {
            "text/plain": [
              "<Figure size 576x432 with 1 Axes>"
            ],
            "image/png": "[encoded data removed]"
          },
          "metadata": {
            "needs_background": "light"
          }
        }
      ]
    },
    {
      "cell_type": "markdown",
      "source": [
        "____________________________________________________________________________________\n",
        "#response time x error rate"
      ],
      "metadata": {
        "id": "WtPVWBIUdEgl"
      }
    }
  ]
}