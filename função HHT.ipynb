{
 "cells": [
  {
   "cell_type": "code",
   "execution_count": null,
   "metadata": {},
   "outputs": [],
   "source": [
    "!pip install emd"
   ]
  },
  {
   "cell_type": "code",
   "execution_count": 39,
   "metadata": {},
   "outputs": [],
   "source": [
    "config = emd.sift.get_config('mask_sift')\n",
    "config['max_imfs'] = 7\n",
    "config['mask_freqs'] = 50/sample_rate\n",
    "config['mask_amp_mode'] = 'ratio_sig'\n",
    "config['imf_opts/sd_thresh'] = 0.05\n",
    "    \n",
    "from functools import partial\n",
    "my_mask_sift = partial(emd.sift.mask_sift, **config)"
   ]
  },
  {
   "cell_type": "code",
   "execution_count": 40,
   "metadata": {},
   "outputs": [],
   "source": [
    "def holospectrum(fam, fcarrier, sholo):\n",
    "    plt.axes([.75, .1, .500, .9])\n",
    "    plt.pcolormesh(fam, fcarrier, sholo, cmap='ocean_r', shading='nearest')\n",
    "    plt.grid(color='grey', linestyle='-', linewidth=0.3)\n",
    "    plt.yscale('log')\n",
    "    plt.xscale('log')\n",
    "    plt.title('Holospectrum')\n",
    "    plt.xlabel('AM Frequency (Hz)')\n",
    "    plt.ylabel('Frequency (Hz)')\n",
    "    plt.yticks(2**np.arange(7), 2**np.arange(7))"
   ]
  },
  {
   "cell_type": "code",
   "execution_count": 41,
   "metadata": {},
   "outputs": [],
   "source": [
    "def mask_sift_second_layer(IA, masks, config={}):\n",
    "    imf2 = np.zeros((IA.shape[0], IA.shape[1], config['max_imfs']))\n",
    "    for ii in range(IA.shape[1]):\n",
    "        config['mask_freqs'] = masks[ii:]\n",
    "        tmp = emd.sift.mask_sift(IA[:, ii], **config)\n",
    "        imf2[:, ii, :tmp.shape[1]] = tmp\n",
    "    return imf2"
   ]
  },
  {
   "cell_type": "code",
   "execution_count": 68,
   "metadata": {},
   "outputs": [],
   "source": [
    "#função p calcular o hilbert huang \n",
    "def hilbert_huang(data, sample_rate=200):\n",
    "     imf = my_mask_sift(data)\n",
    "\n",
    "###2. calculando o conteudo das imfs (fase, freq e amplitude instantaneas)\n",
    "     IP, IF, IA = emd.spectra.frequency_transform(imf, sample_rate, 'nht')\n",
    "    \n",
    "# Define sift parameters for the second level\n",
    "     masks = np.array([25/2**ii for ii in range(12)])/sample_rate\n",
    "     config = emd.sift.get_config('mask_sift')\n",
    "     config['mask_amp_mode'] = 'ratio_sig'\n",
    "     config['mask_amp'] = 2\n",
    "     config['max_imfs'] = 5\n",
    "     config['imf_opts/sd_thresh'] = 0.05\n",
    "     config['envelope_opts/interp_method'] = 'mono_pchip'\n",
    "\n",
    "# Sift the first 5 first level IMFs\n",
    "     imf2 = emd.sift.mask_sift_second_layer(IA, masks, sift_args=config)\n",
    "\n",
    "##2.2. calculando o conteudo da imf2\n",
    "     IP2, IF2, IA2 = emd.spectra.frequency_transform(imf2, sample_rate, 'nht')\n",
    "    \n",
    "    ###3. definindo os bins de frequencia que serão usados no histograma\n",
    "     carrier_hist = (1, 100, 128, 'log') # Carrier frequency histogram \n",
    "     am_hist = (1e-2, 32, 64, 'log') # AM frequency histogram\n",
    "\n",
    "###4. 1d, 2d e 3d hilbert huang transform\n",
    "#(power over carrier frequency)\n",
    "     fcarrier, spec = emd.spectra.hilberthuang(IF, IA, carrier_hist, sum_imfs=False)\n",
    "\n",
    "#power over time x carrier frequency)\n",
    "     fcarrier, hht = emd.spectra.hilberthuang(IF, IA, carrier_hist, sum_time=False)\n",
    "     shht = ndimage.gaussian_filter(hht, 2)\n",
    "\n",
    "#time averaged Holospectrum (power over carrier frequency x AM frequency)\n",
    "     fcarrier, fam, holo = emd.spectra.holospectrum(IF, IF2, IA2, carrier_hist, am_hist)\n",
    "     sholo = ndimage.gaussian_filter(holo, 1)\n",
    "        \n",
    "     return fcarrier, fam, spec, sholo "
   ]
  },
  {
   "cell_type": "code",
   "execution_count": 43,
   "metadata": {},
   "outputs": [],
   "source": [
    "import matplotlib.pyplot as plt\n",
    "import emd\n",
    "#import mne\n",
    "from scipy.io import loadmat\n",
    "import numpy as np\n",
    "from scipy import ndimage\n",
    "\n",
    "path = r\"C:\\Users\\Camila\\OneDrive - Universidade Federal do Pará - UFPA\\Documentos\\LABNEP\\EEG TESTE\\DATASET\\cleaned0_50Hz\"\n",
    "file = r\"0000101_50hz.set\"\n",
    "\n",
    "matdat1 = loadmat(f'{path}\\{file}')\n",
    "matdat = matdat1['data'].flatten()\n",
    "\n",
    "time = matdat1['times'].flatten()\n",
    "sample_rate = 200"
   ]
  },
  {
   "cell_type": "code",
   "execution_count": 59,
   "metadata": {},
   "outputs": [],
   "source": [
    "HHT = hilbert_huang(matdat, sample_rate)"
   ]
  },
  {
   "cell_type": "code",
   "execution_count": 65,
   "metadata": {},
   "outputs": [],
   "source": [
    "fcarrier = HHT[0]\n",
    "fam = HHT[1]\n",
    "spec = HHT[2]\n",
    "sholo = HHT[3]"
   ]
  },
  {
   "cell_type": "code",
   "execution_count": 67,
   "metadata": {},
   "outputs": [
    {
     "data": {
      "image/png": "[encoded data removed]",
      "text/plain": [
       "<Figure size 432x288 with 1 Axes>"
      ]
     },
     "metadata": {
      "needs_background": "light"
     },
     "output_type": "display_data"
    }
   ],
   "source": [
    "holospectrum(fam, fcarrier, sholo)"
   ]
  },
  {
   "cell_type": "code",
   "execution_count": null,
   "metadata": {},
   "outputs": [],
   "source": [
    "#erro\n",
    "#laço for para computar os 28 arquivos da pasta \n",
    "import os\n",
    "\n",
    "path = r\"C:\\Users\\Camila\\OneDrive - Universidade Federal do Pará - UFPA\\Documentos\\LABNEP\\EEG TESTE\\DATASET\\cleaned0_50Hz\"\n",
    "\n",
    "files_saved = []\n",
    "\n",
    "files = os.listdir(path)\n",
    "\n",
    "for each_file in files:\n",
    "    full_path = \"%s/%s\" % (path, each_file)\n",
    "    matdat1 = loadmat(full_path)\n",
    "    data = matdat1['data'].flatten()\n",
    "    \n",
    "    HHT = hilbert_huang(data, sample_rate)\n",
    "    holo = holospectrum(HHT[1], HHT[0], HHT[3])\n",
    "    "
   ]
  },
  {
   "cell_type": "code",
   "execution_count": null,
   "metadata": {},
   "outputs": [],
   "source": []
  }
 ],
 "metadata": {
  "kernelspec": {
   "display_name": "Python 3",
   "language": "python",
   "name": "python3"
  },
  "language_info": {
   "codemirror_mode": {
    "name": "ipython",
    "version": 3
   },
   "file_extension": ".py",
   "mimetype": "text/x-python",
   "name": "python",
   "nbconvert_exporter": "python",
   "pygments_lexer": "ipython3",
   "version": "3.8.5"
  }
 },
 "nbformat": 4,
 "nbformat_minor": 4
}
