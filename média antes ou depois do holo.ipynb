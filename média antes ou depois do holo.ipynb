{
 "cells": [
  {
   "cell_type": "code",
   "execution_count": 1,
   "metadata": {},
   "outputs": [],
   "source": [
    "## Comparando fazer a média dos dados antes do holo ou holo antes da média \n",
    "\n",
    "##média.antes.do.holo\n",
    "#não.finalizado\n",
    "\n",
    "import os\n",
    "import numpy as np\n",
    "from scipy.io import loadmat\n",
    "\n",
    "directory = rf\"OneDrive - Universidade Federal do Pará - UFPA/Documentos/LABNEP/EEG TESTE/DATASET/cleaned0_50Hz\"\n",
    "files = os.listdir(directory)\n",
    "\n",
    "data=[]\n",
    "channels_names = [] \n",
    "\n",
    "#lista dos nomes dos canais de cada dado (alguns tem mais que outros por conta da limpeza de ruídos/artefatos no pré-processamento)\n",
    "\n",
    "for filename in files:\n",
    "    channels = []\n",
    "    f = os.path.join(directory, filename) \n",
    "    if os.path.isfile(f):\n",
    "        matdat1 = loadmat(f)\n",
    "        data.append(matdat1['data'])\n",
    "\n",
    "        for n in range(matdat1['nbchan'][0][0]):\n",
    "            channels.append(matdat1['chanlocs'][0][n][0][0])\n",
    "            \n",
    "        channels_names.append(channels)"
   ]
  },
  {
   "cell_type": "code",
   "execution_count": 4,
   "metadata": {},
   "outputs": [
    {
     "name": "stdout",
     "output_type": "stream",
     "text": [
      "[['F7', 'T5', 'Fp1', 'F3', 'C3', 'P3', 'T4', 'T6', 'Fp2', 'F4', 'C4', 'P4', 'O2', 'Fz', 'Pz', 'Oz'], ['Fp1', 'F3', 'C3', 'P3', 'F8', 'Fp2', 'F4', 'C4', 'P4', 'O2', 'Fz', 'Pz'], ['T5', 'Fp1', 'C3', 'P3', 'O1', 'F8', 'T4', 'T6', 'Fp2', 'C4', 'O2', 'Fz', 'Cz', 'Pz', 'Oz'], ['F7', 'T3', 'T5', 'Fp1', 'F3', 'C3', 'P3', 'O1', 'F8', 'T4', 'T6', 'Fp2', 'F4', 'C4', 'P4', 'O2', 'Fz', 'Pz', 'Oz'], ['T5', 'Fp1', 'F3', 'C3', 'P3', 'O1', 'F8', 'T4', 'T6', 'Fp2', 'F4', 'C4', 'P4', 'O2', 'Fz', 'Cz', 'Pz', 'Oz'], ['T5', 'Fp1', 'F3', 'C3', 'P3', 'O1', 'F8', 'T4', 'T6', 'Fp2', 'C4', 'P4', 'O2', 'Fz', 'Cz', 'Pz', 'Oz'], ['F7', 'T3', 'T5', 'Fp1', 'F3', 'C3', 'P3', 'O1', 'F8', 'T4', 'T6', 'Fp2', 'F4', 'C4', 'P4', 'O2', 'Fz', 'Cz', 'Pz', 'Oz'], ['F7', 'T5', 'Fp1', 'F3', 'C3', 'P3', 'O1', 'F8', 'T4', 'T6', 'Fp2', 'F4', 'C4', 'P4', 'O2', 'Fz', 'Cz', 'Pz'], ['T3', 'T5', 'Fp1', 'F3', 'C3', 'P3', 'O1', 'F8', 'T4', 'T6', 'Fp2', 'F4', 'C4', 'P4', 'O2', 'Fz', 'Cz', 'Pz', 'Oz'], ['T5', 'Fp1', 'F3', 'C3', 'P3', 'O1', 'F8', 'T4', 'T6', 'Fp2', 'F4', 'C4', 'P4', 'O2', 'Fz', 'Cz', 'Pz', 'Oz'], ['T5', 'Fp1', 'F3', 'C3', 'P3', 'O1', 'F8', 'Fp2', 'F4', 'C4', 'P4', 'O2', 'Fz', 'Cz', 'Pz', 'Oz'], ['T5', 'Fp1', 'F3', 'C3', 'P3', 'O1', 'F8', 'T4', 'T6', 'Fp2', 'F4', 'C4', 'P4', 'O2', 'Fz', 'Cz', 'Pz'], ['T3', 'T5', 'Fp1', 'F3', 'C3', 'P3', 'O1', 'F8', 'T4', 'T6', 'Fp2', 'F4', 'C4', 'P4', 'O2', 'Fz', 'Cz', 'Pz', 'Oz'], ['T5', 'Fp1', 'F3', 'C3', 'P3', 'O1', 'F8', 'T6', 'Fp2', 'F4', 'C4', 'P4', 'O2', 'Fz', 'Pz', 'Oz'], ['F7', 'T5', 'Fp1', 'F3', 'C3', 'P3', 'O1', 'F8', 'T4', 'Fp2', 'F4', 'C4', 'P4', 'O2', 'Fz', 'Cz', 'Pz'], ['F7', 'T3', 'T5', 'Fp1', 'F3', 'C3', 'P3', 'F8', 'T4', 'T6', 'Fp2', 'F4', 'P4', 'O2', 'Fz', 'Cz', 'Pz', 'Oz'], ['F7', 'T3', 'T5', 'Fp1', 'F3', 'C3', 'P3', 'O1', 'F8', 'T4', 'T6', 'Fp2', 'F4', 'C4', 'P4', 'O2', 'Fz', 'Cz', 'Pz', 'Oz'], ['T3', 'T5', 'Fp1', 'P3', 'O1', 'F8', 'T4', 'T6', 'Fp2', 'F4', 'C4', 'P4', 'O2', 'Fz', 'Cz', 'Pz'], ['F7', 'T3', 'T5', 'Fp1', 'F3', 'C3', 'P3', 'O1', 'F8', 'T4', 'T6', 'F4', 'C4', 'P4', 'O2', 'Fz', 'Cz', 'Pz', 'Oz'], ['T3', 'T5', 'Fp1', 'F3', 'C3', 'P3', 'O1', 'F8', 'T4', 'T6', 'Fp2', 'F4', 'C4', 'P4', 'Fz', 'Pz'], ['F7', 'T3', 'T5', 'Fp1', 'F3', 'C3', 'P3', 'F8', 'T6', 'Fp2', 'F4', 'C4', 'P4', 'O2', 'Fz', 'Pz'], ['F7', 'T5', 'Fp1', 'F3', 'C3', 'P3', 'O1', 'T4', 'T6', 'Fp2', 'F4', 'C4', 'P4', 'O2', 'Fz', 'Pz'], ['T5', 'Fp1', 'F3', 'C3', 'P3', 'O1', 'F8', 'T4', 'T6', 'Fp2', 'F4', 'C4', 'P4', 'O2', 'Fz', 'Cz', 'Pz'], ['T5', 'Fp1', 'F3', 'C3', 'P3', 'O1', 'F8', 'T6', 'Fp2', 'F4', 'C4', 'O2', 'Fz', 'Cz', 'Pz'], ['F7', 'T3', 'T5', 'Fp1', 'F3', 'C3', 'P3', 'O1', 'F8', 'T4', 'T6', 'Fp2', 'F4', 'C4', 'P4', 'O2', 'Fz', 'Cz', 'Pz', 'Oz'], ['F7', 'T3', 'T5', 'Fp1', 'F3', 'C3', 'P3', 'F8', 'T6', 'Fp2', 'F4', 'C4', 'P4', 'O2', 'Fz', 'Cz', 'Pz', 'Oz'], ['F7', 'T5', 'Fp1', 'F3', 'C3', 'P3', 'O1', 'F8', 'T4', 'T6', 'Fp2', 'F4', 'C4', 'P4', 'O2', 'Fz', 'Cz', 'Pz', 'Oz'], ['F7', 'T5', 'Fp1', 'F3', 'C3', 'P3', 'O1', 'F8', 'T4', 'T6', 'Fp2', 'F4', 'C4', 'P4', 'O2', 'Fz', 'Cz', 'Pz', 'Oz']]\n"
     ]
    }
   ],
   "source": [
    "print(channels_names)"
   ]
  },
  {
   "cell_type": "code",
   "execution_count": 5,
   "metadata": {},
   "outputs": [
    {
     "name": "stdout",
     "output_type": "stream",
     "text": [
      "The common elements from N lists : ['P3', 'Pz', 'Fp1', 'Fz']\n"
     ]
    }
   ],
   "source": [
    "#interseção para procurar os canais em comum de todos os arquivos    \n",
    "res = list(set.intersection(*map(set, channels_names)))\n",
    "print (\"The common elements from N lists : \" + str(res))\n",
    "\n",
    "#percebe-se que a interseção resulta em um número de canais muito baixo, fazer a média desses poucos canais perderia-se muita informação"
   ]
  },
  {
   "cell_type": "code",
   "execution_count": 7,
   "metadata": {},
   "outputs": [],
   "source": [
    "##holo.antes.da.média\n",
    "#não.finalizado\n",
    "\n",
    "import os\n",
    "import numpy as np\n",
    "from scipy.io import loadmat\n",
    "\n",
    "directory = r'OneDrive - Universidade Federal do Pará - UFPA/Documentos/LABNEP/EEG TESTE/DATASET/cleaned0_50Hz'\n",
    "files = os.listdir(directory)\n",
    "\n",
    "data=[]\n",
    "\n",
    "for filename in files:\n",
    "    f = os.path.join(directory, filename) \n",
    "    if os.path.isfile(f):\n",
    "        matdat1 = loadmat(f)\n",
    "        data.append(matdat1['data'].flatten()) #deve-se fazer o flatten() pq as funções da HHT3D só aceita arrays uni-dim"
    
    "        for i in range(len(data)):
    "          fcarrier, fam, spec, sholo = hilbert_huang (data[i], sample_rate)"

    "          fcarrier1.append(fcarrier)"
    "          fam1.append(fam)"
    "          spec1.append(spec)"
    "          sholo1.append(sholo)"
   ]
  },
  {
   "cell_type": "code",
   "execution_count": null,
   "metadata": {},
   "outputs": [],
   "source": []
  }
 ],
 "metadata": {
  "kernelspec": {
   "display_name": "Python 3",
   "language": "python",
   "name": "python3"
  },
  "language_info": {
   "codemirror_mode": {
    "name": "ipython",
    "version": 3
   },
   "file_extension": ".py",
   "mimetype": "text/x-python",
   "name": "python",
   "nbconvert_exporter": "python",
   "pygments_lexer": "ipython3",
   "version": "3.8.5"
  }
 },
 "nbformat": 4,
 "nbformat_minor": 4
}
