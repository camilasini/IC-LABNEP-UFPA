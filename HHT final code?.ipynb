{
  "nbformat": 4,
  "nbformat_minor": 0,
  "metadata": {
    "colab": {
      "provenance": [],
      "collapsed_sections": [
        "ixXBp6gPeKaq",
        "wdVIoJMLqlDs",
        "IhBiF5AWkevu"
      ],
      "mount_file_id": "16AAXA3aKnZ2sQXaYX7QygDnK2II-D5TX",
      "authorship_tag": "ABX9TyNC5lo9XMki3WaDXL0qsFIN",
      "include_colab_link": true
    },
    "kernelspec": {
      "name": "python3",
      "display_name": "Python 3"
    },
    "language_info": {
      "name": "python"
    }
  },
  "cells": [
    {
      "cell_type": "markdown",
      "metadata": {
        "id": "view-in-github",
        "colab_type": "text"
      },
      "source": [
        "<a href=\"https://colab.research.google.com/github/camilasini/IC-UFPA/blob/main/HHT%20final%20code%3F.ipynb\" target=\"_parent\"><img src=\"https://colab.research.google.com/assets/colab-badge.svg\" alt=\"Open In Colab\"/></a>"
      ]
    },
    {
      "cell_type": "markdown",
      "source": [
        "#Função HHT 3D e holospectrum"
      ],
      "metadata": {
        "id": "dThAygzxqo9P"
      }
    },
    {
      "cell_type": "code",
      "execution_count": 1,
      "metadata": {
        "id": "PNIsf1Grcuth",
        "colab": {
          "base_uri": "https://localhost:8080/"
        },
        "outputId": "c9bcf92d-e738-4597-d3e3-90b94d87f78a"
      },
      "outputs": [
        {
          "output_type": "stream",
          "name": "stdout",
          "text": [
            "Looking in indexes: https://pypi.org/simple, https://us-python.pkg.dev/colab-wheels/public/simple/\n",
            "Collecting emd\n",
            "  Downloading emd-0.5.5-py2.py3-none-any.whl (83 kB)\n",
            "\u001b[2K     \u001b[90m━━━━━━━━━━━━━━━━━━━━━━━━━━━━━━━━━━━━━━━━\u001b[0m \u001b[32m83.1/83.1 KB\u001b[0m \u001b[31m3.2 MB/s\u001b[0m eta \u001b[36m0:00:00\u001b[0m\n",
            "\u001b[?25hRequirement already satisfied: numpy<1.22 in /usr/local/lib/python3.8/dist-packages (from emd) (1.21.6)\n",
            "Requirement already satisfied: matplotlib in /usr/local/lib/python3.8/dist-packages (from emd) (3.2.2)\n",
            "Requirement already satisfied: pandas in /usr/local/lib/python3.8/dist-packages (from emd) (1.3.5)\n",
            "Requirement already satisfied: pyyaml>=5.1 in /usr/local/lib/python3.8/dist-packages (from emd) (6.0)\n",
            "Collecting sparse\n",
            "  Downloading sparse-0.13.0-py2.py3-none-any.whl (77 kB)\n",
            "\u001b[2K     \u001b[90m━━━━━━━━━━━━━━━━━━━━━━━━━━━━━━━━━━━━━━━━\u001b[0m \u001b[32m77.8/77.8 KB\u001b[0m \u001b[31m8.6 MB/s\u001b[0m eta \u001b[36m0:00:00\u001b[0m\n",
            "\u001b[?25hRequirement already satisfied: joblib in /usr/local/lib/python3.8/dist-packages (from emd) (1.2.0)\n",
            "Requirement already satisfied: tabulate in /usr/local/lib/python3.8/dist-packages (from emd) (0.8.10)\n",
            "Collecting dcor\n",
            "  Downloading dcor-0.6-py3-none-any.whl (55 kB)\n",
            "\u001b[2K     \u001b[90m━━━━━━━━━━━━━━━━━━━━━━━━━━━━━━━━━━━━━━━━\u001b[0m \u001b[32m55.5/55.5 KB\u001b[0m \u001b[31m1.0 MB/s\u001b[0m eta \u001b[36m0:00:00\u001b[0m\n",
            "\u001b[?25hRequirement already satisfied: scipy in /usr/local/lib/python3.8/dist-packages (from emd) (1.7.3)\n",
            "Requirement already satisfied: numba>=0.51 in /usr/local/lib/python3.8/dist-packages (from dcor->emd) (0.56.4)\n",
            "Requirement already satisfied: pyparsing!=2.0.4,!=2.1.2,!=2.1.6,>=2.0.1 in /usr/local/lib/python3.8/dist-packages (from matplotlib->emd) (3.0.9)\n",
            "Requirement already satisfied: cycler>=0.10 in /usr/local/lib/python3.8/dist-packages (from matplotlib->emd) (0.11.0)\n",
            "Requirement already satisfied: kiwisolver>=1.0.1 in /usr/local/lib/python3.8/dist-packages (from matplotlib->emd) (1.4.4)\n",
            "Requirement already satisfied: python-dateutil>=2.1 in /usr/local/lib/python3.8/dist-packages (from matplotlib->emd) (2.8.2)\n",
            "Requirement already satisfied: pytz>=2017.3 in /usr/local/lib/python3.8/dist-packages (from pandas->emd) (2022.7)\n",
            "Requirement already satisfied: llvmlite<0.40,>=0.39.0dev0 in /usr/local/lib/python3.8/dist-packages (from numba>=0.51->dcor->emd) (0.39.1)\n",
            "Requirement already satisfied: setuptools in /usr/local/lib/python3.8/dist-packages (from numba>=0.51->dcor->emd) (57.4.0)\n",
            "Requirement already satisfied: importlib-metadata in /usr/local/lib/python3.8/dist-packages (from numba>=0.51->dcor->emd) (6.0.0)\n",
            "Requirement already satisfied: six>=1.5 in /usr/local/lib/python3.8/dist-packages (from python-dateutil>=2.1->matplotlib->emd) (1.15.0)\n",
            "Requirement already satisfied: zipp>=0.5 in /usr/local/lib/python3.8/dist-packages (from importlib-metadata->numba>=0.51->dcor->emd) (3.11.0)\n",
            "Installing collected packages: sparse, dcor, emd\n",
            "Successfully installed dcor-0.6 emd-0.5.5 sparse-0.13.0\n"
          ]
        }
      ],
      "source": [
        "!pip install emd"
      ]
    },
    {
      "cell_type": "code",
      "source": [
        "import matplotlib.pyplot as plt\n",
        "import emd\n",
        "from scipy.io import loadmat\n",
        "import numpy as np\n",
        "from scipy import ndimage\n",
        "\n",
        "sample_rate = 200\n",
        "\n",
        "config = emd.sift.get_config('mask_sift')\n",
        "config['max_imfs'] = 7\n",
        "config['mask_freqs'] = 50/sample_rate\n",
        "config['mask_amp_mode'] = 'ratio_sig'\n",
        "config['imf_opts/sd_thresh'] = 0.05\n",
        "    \n",
        "from functools import partial\n",
        "my_mask_sift = partial(emd.sift.mask_sift, **config)"
      ],
      "metadata": {
        "id": "M-ZD4xvlcyKv"
      },
      "execution_count": 2,
      "outputs": []
    },
    {
      "cell_type": "code",
      "source": [
        "def mask_sift_second_layer(IA, masks, config={}):\n",
        "    imf2 = np.zeros((IA.shape[0], IA.shape[1], config['max_imfs']))\n",
        "    for ii in range(IA.shape[1]):\n",
        "        config['mask_freqs'] = masks[ii:]\n",
        "        tmp = emd.sift.mask_sift(IA[:, ii], **config)\n",
        "        imf2[:, ii, :tmp.shape[1]] = tmp\n",
        "    return imf2"
      ],
      "metadata": {
        "id": "_I0Wr2FTc2WL"
      },
      "execution_count": 3,
      "outputs": []
    },
    {
      "cell_type": "code",
      "source": [
        "#função p calcular o hilbert huang \n",
        "def hilbert_huang(data, sample_rate=200):\n",
        "     imf = my_mask_sift(data)\n",
        "\n",
        "###2. calculando o conteudo das imfs (fase, freq e amplitude instantaneas)\n",
        "     IP, IF, IA = emd.spectra.frequency_transform(imf, sample_rate, 'nht')\n",
        "    \n",
        "# Define sift parameters for the second level\n",
        "     masks = np.array([25/2**ii for ii in range(12)])/sample_rate\n",
        "     config = emd.sift.get_config('mask_sift')\n",
        "     config['mask_amp_mode'] = 'ratio_sig'\n",
        "     config['mask_amp'] = 2\n",
        "     config['max_imfs'] = 5\n",
        "     config['imf_opts/sd_thresh'] = 0.05\n",
        "     config['envelope_opts/interp_method'] = 'mono_pchip'\n",
        "\n",
        "# Sift the first 5 first level IMFs\n",
        "     imf2 = emd.sift.mask_sift_second_layer(IA, masks, sift_args=config)\n",
        "\n",
        "##2.2. calculando o conteudo da imf2\n",
        "     IP2, IF2, IA2 = emd.spectra.frequency_transform(imf2, sample_rate, 'nht')\n",
        "    \n",
        "    ###3. definindo os bins de frequencia que serão usados no histograma\n",
        "     carrier_hist = (1, 50, 49, 'log') # Carrier frequency histogram \n",
        "     am_hist = (1e-2, 32, 64, 'log') # AM frequency histogram\n",
        "\n",
        "###4. 1d, 2d e 3d hilbert huang transform\n",
        "#(power over carrier frequency)\n",
        "     fcarrier, spec = emd.spectra.hilberthuang(IF, IA, carrier_hist, sum_imfs=False)\n",
        "\n",
        "#power over time x carrier frequency)\n",
        "     fcarrier, hht = emd.spectra.hilberthuang(IF, IA, carrier_hist, sum_time=False)\n",
        "     shht = ndimage.gaussian_filter(hht, 2)\n",
        "\n",
        "#time averaged Holospectrum (power over carrier frequency x AM frequency)\n",
        "     fcarrier, fam, holo = emd.spectra.holospectrum(IF, IF2, IA2, carrier_hist, am_hist)\n",
        "     sholo = ndimage.gaussian_filter(holo, 1)\n",
        "    #Filtro gaussiano é um filtro capaz de reduzir o nível de ruído de um sinal de entrada, a fim de diminuir a distorção numa imagem\n",
        "    \n",
        "     hht_by_phase, _, _ = emd.cycles.bin_by_phase(IP[:, 4], hht.T)\n",
        "    \n",
        "     return fcarrier, fam, spec, sholo, hht_by_phase"
      ],
      "metadata": {
        "id": "V5W8ulEHc35V"
      },
      "execution_count": 4,
      "outputs": []
    },
    {
      "cell_type": "markdown",
      "source": [
        "#Carregando dados \n",
        "média antes do holospectrum"
      ],
      "metadata": {
        "id": "ixXBp6gPeKaq"
      }
    },
    {
      "cell_type": "code",
      "source": [
        "import os\n",
        "import numpy as np\n",
        "from scipy.io import loadmat\n",
        "\n",
        "directory = r\"/content/drive/MyDrive/Colab Notebooks/cleaned_50hz\"\n",
        "files = os.listdir(directory)\n",
        "\n",
        "data=[]\n",
        "channels_names = []\n",
        "\n",
        "for filename in files:\n",
        "    channels = []\n",
        "    f = os.path.join(directory, filename) \n",
        "    if os.path.isfile(f):\n",
        "        matdat1 = loadmat(f)\n",
        "        data.append(matdat1['data'])\n",
        "\n",
        "        for n in range(matdat1['nbchan'][0][0]):\n",
        "            channels.append(matdat1['chanlocs'][0][n][0][0])\n",
        "            \n",
        "        channels_names.append(channels)"
      ],
      "metadata": {
        "id": "AojC4ZDHeM7H",
        "colab": {
          "base_uri": "https://localhost:8080/"
        },
        "outputId": "d9eb5c0e-a259-45f3-9a11-92998c8e307f"
      },
      "execution_count": null,
      "outputs": [
        {
          "output_type": "error",
          "ename": "KeyboardInterrupt",
          "evalue": "ignored",
          "traceback": [
            "\u001b[0;31m---------------------------------------------------------------------------\u001b[0m",
            "\u001b[0;31mKeyboardInterrupt\u001b[0m                         Traceback (most recent call last)",
            "\u001b[0;32m<ipython-input-1-cf2c47c04ed7>\u001b[0m in \u001b[0;36m<module>\u001b[0;34m\u001b[0m\n\u001b[1;32m     13\u001b[0m     \u001b[0mf\u001b[0m \u001b[0;34m=\u001b[0m \u001b[0mos\u001b[0m\u001b[0;34m.\u001b[0m\u001b[0mpath\u001b[0m\u001b[0;34m.\u001b[0m\u001b[0mjoin\u001b[0m\u001b[0;34m(\u001b[0m\u001b[0mdirectory\u001b[0m\u001b[0;34m,\u001b[0m \u001b[0mfilename\u001b[0m\u001b[0;34m)\u001b[0m\u001b[0;34m\u001b[0m\u001b[0;34m\u001b[0m\u001b[0m\n\u001b[1;32m     14\u001b[0m     \u001b[0;32mif\u001b[0m \u001b[0mos\u001b[0m\u001b[0;34m.\u001b[0m\u001b[0mpath\u001b[0m\u001b[0;34m.\u001b[0m\u001b[0misfile\u001b[0m\u001b[0;34m(\u001b[0m\u001b[0mf\u001b[0m\u001b[0;34m)\u001b[0m\u001b[0;34m:\u001b[0m\u001b[0;34m\u001b[0m\u001b[0;34m\u001b[0m\u001b[0m\n\u001b[0;32m---> 15\u001b[0;31m         \u001b[0mmatdat1\u001b[0m \u001b[0;34m=\u001b[0m \u001b[0mloadmat\u001b[0m\u001b[0;34m(\u001b[0m\u001b[0mf\u001b[0m\u001b[0;34m)\u001b[0m\u001b[0;34m\u001b[0m\u001b[0;34m\u001b[0m\u001b[0m\n\u001b[0m\u001b[1;32m     16\u001b[0m         \u001b[0mdata\u001b[0m\u001b[0;34m.\u001b[0m\u001b[0mappend\u001b[0m\u001b[0;34m(\u001b[0m\u001b[0mmatdat1\u001b[0m\u001b[0;34m[\u001b[0m\u001b[0;34m'data'\u001b[0m\u001b[0;34m]\u001b[0m\u001b[0;34m)\u001b[0m\u001b[0;34m\u001b[0m\u001b[0;34m\u001b[0m\u001b[0m\n\u001b[1;32m     17\u001b[0m \u001b[0;34m\u001b[0m\u001b[0m\n",
            "\u001b[0;32m/usr/local/lib/python3.8/dist-packages/scipy/io/matlab/mio.py\u001b[0m in \u001b[0;36mloadmat\u001b[0;34m(file_name, mdict, appendmat, **kwargs)\u001b[0m\n\u001b[1;32m    223\u001b[0m     \u001b[0mvariable_names\u001b[0m \u001b[0;34m=\u001b[0m \u001b[0mkwargs\u001b[0m\u001b[0;34m.\u001b[0m\u001b[0mpop\u001b[0m\u001b[0;34m(\u001b[0m\u001b[0;34m'variable_names'\u001b[0m\u001b[0;34m,\u001b[0m \u001b[0;32mNone\u001b[0m\u001b[0;34m)\u001b[0m\u001b[0;34m\u001b[0m\u001b[0;34m\u001b[0m\u001b[0m\n\u001b[1;32m    224\u001b[0m     \u001b[0;32mwith\u001b[0m \u001b[0m_open_file_context\u001b[0m\u001b[0;34m(\u001b[0m\u001b[0mfile_name\u001b[0m\u001b[0;34m,\u001b[0m \u001b[0mappendmat\u001b[0m\u001b[0;34m)\u001b[0m \u001b[0;32mas\u001b[0m \u001b[0mf\u001b[0m\u001b[0;34m:\u001b[0m\u001b[0;34m\u001b[0m\u001b[0;34m\u001b[0m\u001b[0m\n\u001b[0;32m--> 225\u001b[0;31m         \u001b[0mMR\u001b[0m\u001b[0;34m,\u001b[0m \u001b[0m_\u001b[0m \u001b[0;34m=\u001b[0m \u001b[0mmat_reader_factory\u001b[0m\u001b[0;34m(\u001b[0m\u001b[0mf\u001b[0m\u001b[0;34m,\u001b[0m \u001b[0;34m**\u001b[0m\u001b[0mkwargs\u001b[0m\u001b[0;34m)\u001b[0m\u001b[0;34m\u001b[0m\u001b[0;34m\u001b[0m\u001b[0m\n\u001b[0m\u001b[1;32m    226\u001b[0m         \u001b[0mmatfile_dict\u001b[0m \u001b[0;34m=\u001b[0m \u001b[0mMR\u001b[0m\u001b[0;34m.\u001b[0m\u001b[0mget_variables\u001b[0m\u001b[0;34m(\u001b[0m\u001b[0mvariable_names\u001b[0m\u001b[0;34m)\u001b[0m\u001b[0;34m\u001b[0m\u001b[0;34m\u001b[0m\u001b[0m\n\u001b[1;32m    227\u001b[0m \u001b[0;34m\u001b[0m\u001b[0m\n",
            "\u001b[0;32m/usr/local/lib/python3.8/dist-packages/scipy/io/matlab/mio.py\u001b[0m in \u001b[0;36mmat_reader_factory\u001b[0;34m(file_name, appendmat, **kwargs)\u001b[0m\n\u001b[1;32m     72\u001b[0m     \"\"\"\n\u001b[1;32m     73\u001b[0m     \u001b[0mbyte_stream\u001b[0m\u001b[0;34m,\u001b[0m \u001b[0mfile_opened\u001b[0m \u001b[0;34m=\u001b[0m \u001b[0m_open_file\u001b[0m\u001b[0;34m(\u001b[0m\u001b[0mfile_name\u001b[0m\u001b[0;34m,\u001b[0m \u001b[0mappendmat\u001b[0m\u001b[0;34m)\u001b[0m\u001b[0;34m\u001b[0m\u001b[0;34m\u001b[0m\u001b[0m\n\u001b[0;32m---> 74\u001b[0;31m     \u001b[0mmjv\u001b[0m\u001b[0;34m,\u001b[0m \u001b[0mmnv\u001b[0m \u001b[0;34m=\u001b[0m \u001b[0mget_matfile_version\u001b[0m\u001b[0;34m(\u001b[0m\u001b[0mbyte_stream\u001b[0m\u001b[0;34m)\u001b[0m\u001b[0;34m\u001b[0m\u001b[0;34m\u001b[0m\u001b[0m\n\u001b[0m\u001b[1;32m     75\u001b[0m     \u001b[0;32mif\u001b[0m \u001b[0mmjv\u001b[0m \u001b[0;34m==\u001b[0m \u001b[0;36m0\u001b[0m\u001b[0;34m:\u001b[0m\u001b[0;34m\u001b[0m\u001b[0;34m\u001b[0m\u001b[0m\n\u001b[1;32m     76\u001b[0m         \u001b[0;32mreturn\u001b[0m \u001b[0mMatFile4Reader\u001b[0m\u001b[0;34m(\u001b[0m\u001b[0mbyte_stream\u001b[0m\u001b[0;34m,\u001b[0m \u001b[0;34m**\u001b[0m\u001b[0mkwargs\u001b[0m\u001b[0;34m)\u001b[0m\u001b[0;34m,\u001b[0m \u001b[0mfile_opened\u001b[0m\u001b[0;34m\u001b[0m\u001b[0;34m\u001b[0m\u001b[0m\n",
            "\u001b[0;32m/usr/local/lib/python3.8/dist-packages/scipy/io/matlab/miobase.py\u001b[0m in \u001b[0;36mget_matfile_version\u001b[0;34m(fileobj)\u001b[0m\n\u001b[1;32m    210\u001b[0m     \u001b[0;31m# Mat4 files have a zero somewhere in first 4 bytes\u001b[0m\u001b[0;34m\u001b[0m\u001b[0;34m\u001b[0m\u001b[0;34m\u001b[0m\u001b[0m\n\u001b[1;32m    211\u001b[0m     \u001b[0mfileobj\u001b[0m\u001b[0;34m.\u001b[0m\u001b[0mseek\u001b[0m\u001b[0;34m(\u001b[0m\u001b[0;36m0\u001b[0m\u001b[0;34m)\u001b[0m\u001b[0;34m\u001b[0m\u001b[0;34m\u001b[0m\u001b[0m\n\u001b[0;32m--> 212\u001b[0;31m     \u001b[0mmopt_bytes\u001b[0m \u001b[0;34m=\u001b[0m \u001b[0mfileobj\u001b[0m\u001b[0;34m.\u001b[0m\u001b[0mread\u001b[0m\u001b[0;34m(\u001b[0m\u001b[0;36m4\u001b[0m\u001b[0;34m)\u001b[0m\u001b[0;34m\u001b[0m\u001b[0;34m\u001b[0m\u001b[0m\n\u001b[0m\u001b[1;32m    213\u001b[0m     \u001b[0;32mif\u001b[0m \u001b[0mlen\u001b[0m\u001b[0;34m(\u001b[0m\u001b[0mmopt_bytes\u001b[0m\u001b[0;34m)\u001b[0m \u001b[0;34m==\u001b[0m \u001b[0;36m0\u001b[0m\u001b[0;34m:\u001b[0m\u001b[0;34m\u001b[0m\u001b[0;34m\u001b[0m\u001b[0m\n\u001b[1;32m    214\u001b[0m         \u001b[0;32mraise\u001b[0m \u001b[0mMatReadError\u001b[0m\u001b[0;34m(\u001b[0m\u001b[0;34m\"Mat file appears to be empty\"\u001b[0m\u001b[0;34m)\u001b[0m\u001b[0;34m\u001b[0m\u001b[0;34m\u001b[0m\u001b[0m\n",
            "\u001b[0;31mKeyboardInterrupt\u001b[0m: "
          ]
        }
      ]
    },
    {
      "cell_type": "code",
      "source": [
        "for i in range(len(data)):\n",
        "  value=np.shape(data[i])\n",
        "  print(value)"
      ],
      "metadata": {
        "id": "bsps0HnJeRg7"
      },
      "execution_count": null,
      "outputs": []
    },
    {
      "cell_type": "code",
      "source": [
        "# common element extraction form N lists\n",
        "# using map() + intersection()\n",
        "res = list(set.intersection(*map(set, channels_names)))\n",
        " \n",
        "# printing result\n",
        "print (\"The common elements from N lists : \" + str(res))"
      ],
      "metadata": {
        "id": "DK1Hl8KWeO0-"
      },
      "execution_count": null,
      "outputs": []
    },
    {
      "cell_type": "markdown",
      "source": [
        "#Carregando dados\n",
        "holospectrum antes da média"
      ],
      "metadata": {
        "id": "zu530pGeedLd"
      }
    },
    {
      "cell_type": "code",
      "source": [
        "import os\n",
        "import numpy as np\n",
        "from scipy.io import loadmat\n",
        "\n",
        "directory = r'/content/drive/MyDrive/Colab Notebooks/teste HHT dataset'\n",
        "files = os.listdir(directory)\n",
        "\n",
        "data=[]\n",
        "\n",
        "for filename in files:\n",
        "    f = os.path.join(directory, filename) \n",
        "    fcarrier1 = []\n",
        "    fam1 = []\n",
        "    spec1=[]\n",
        "    sholo1 = []\n",
        "\n",
        "    if os.path.isfile(f):\n",
        "        matdat1 = loadmat(f)\n",
        "        data.append(matdat1['data'].flatten())\n",
        "\n",
        "        for i in range(len(data)):\n",
        "              fcarrier, fam, spec, sholo = hilbert_huang (data[i], sample_rate)\n",
        "\n",
        "              fcarrier1.append(fcarrier)\n",
        "              fam1.append(fam)\n",
        "              spec1.append(spec)\n",
        "              sholo1.append(sholo)\n"
      ],
      "metadata": {
        "id": "XvSVTsDFehQ-"
      },
      "execution_count": null,
      "outputs": []
    },
    {
      "cell_type": "code",
      "source": [
        "import matplotlib.pyplot as plt\n",
        "from scipy.io import loadmat\n",
        "import numpy as np\n",
        "\n",
        "path = r'/content/drive/MyDrive/Colab Notebooks/cleaned_50hz/0000101_50hz.set'\n",
        "\n",
        "matdat1 = loadmat(path)"
      ],
      "metadata": {
        "id": "pQ9syHQII4MN"
      },
      "execution_count": 5,
      "outputs": []
    },
    {
      "cell_type": "code",
      "source": [
        "(np.shape(matdat1['chanlocs']))"
      ],
      "metadata": {
        "colab": {
          "base_uri": "https://localhost:8080/"
        },
        "id": "ult8I0guXadG",
        "outputId": "9409f177-7eb2-483e-e997-9ab3f5167916"
      },
      "execution_count": 48,
      "outputs": [
        {
          "output_type": "execute_result",
          "data": {
            "text/plain": [
              "(1, 16)"
            ]
          },
          "metadata": {},
          "execution_count": 48
        }
      ]
    },
    {
      "cell_type": "code",
      "source": [
        "for i in range(0,16):\n",
        "    print(f'{i}.'+matdat1['chanlocs'][0][i][0][0])"
      ],
      "metadata": {
        "colab": {
          "base_uri": "https://localhost:8080/"
        },
        "id": "jEFZxV6oW7J3",
        "outputId": "cf1dec2b-84d9-465a-9ef1-48008d9da5fa"
      },
      "execution_count": 49,
      "outputs": [
        {
          "output_type": "stream",
          "name": "stdout",
          "text": [
            "0.F7\n",
            "1.T5\n",
            "2.Fp1\n",
            "3.F3\n",
            "4.C3\n",
            "5.P3\n",
            "6.T4\n",
            "7.T6\n",
            "8.Fp2\n",
            "9.F4\n",
            "10.C4\n",
            "11.P4\n",
            "12.O2\n",
            "13.Fz\n",
            "14.Pz\n",
            "15.Oz\n"
          ]
        }
      ]
    },
    {
      "cell_type": "code",
      "source": [
        "data = matdat1['data'][8]\n",
        "fcarrier, fam, spec, sholo, hht_by_phase = hilbert_huang(data, sample_rate)"
      ],
      "metadata": {
        "id": "ZmJ95mGSbRrG"
      },
      "execution_count": 58,
      "outputs": []
    },
    {
      "cell_type": "code",
      "source": [
        "def holospectrum(fam, fcarrier, sholo):\n",
        "   fig,ax=plt.subplots(1,1, figsize=(12,6))\n",
        "   cp = ax.contourf(fcarrier, fam, sholo.T**0.25, cmap = 'jet', shade = 'nearest', levels=np.linspace(np.min(sholo.T)**0.25, np.max(sholo.T)**0.25, 40))\n",
        "   plt.yscale('log')\n",
        "   plt.xscale('log')\n",
        "   plt.ylim(0.5,16)\n",
        "   plt.xlim(1,32)\n",
        "   plt.yticks(2**np.arange(5),2**np.arange(5))\n",
        "   plt.xticks(2**np.arange(6),2**np.arange(6))\n",
        "   plt.colorbar(cp)\n",
        "   #cb.set_label(r'$V^{2}$', rotation=0)\n",
        "   ax.set_title('holospectrum')\n",
        "   ax.set_xlabel('FM Frequency (Hz)')\n",
        "   ax.set_ylabel('AM Frequency (Hz)')\n",
        "   plt.show()\n",
        "    \n",
        "   return"
      ],
      "metadata": {
        "id": "2YphnaQHdv4q"
      },
      "execution_count": 61,
      "outputs": []
    },
    {
      "cell_type": "code",
      "source": [
        "fig,ax=plt.subplots(1,1, figsize=(12,6))\n",
        "cp = ax.contourf(fcarrier, fam, sholo.T**0.25, cmap = 'jet', shade = 'nearest', levels=np.linspace(np.min(sholo.T)**0.25, np.max(sholo.T)**0.25, 40))\n",
        "plt.yscale('log')\n",
        "plt.xscale('log')\n",
        "plt.ylim(0.5,16)\n",
        "plt.xlim(1,32)\n",
        "plt.yticks(2**np.arange(5),2**np.arange(5))\n",
        "plt.xticks(2**np.arange(6),2**np.arange(6))\n",
        "plt.colorbar(cp)\n",
        "#cb.set_label(r'$V^{2}$', rotation=0)\n",
        "ax.set_title('holospectrum')\n",
        "ax.set_xlabel('FM Frequency (Hz)')\n",
        "ax.set_ylabel('AM Frequency (Hz)')\n",
        "plt.show()"
      ],
      "metadata": {
        "colab": {
          "base_uri": "https://localhost:8080/",
          "height": 441
        },
        "id": "bEAFIFtQRegE",
        "outputId": "29d4ae96-de72-4b16-d28a-a1f549cc7be7"
      },
      "execution_count": 59,
      "outputs": [
        {
          "output_type": "stream",
          "name": "stderr",
          "text": [
            "<ipython-input-59-47875b140859>:2: UserWarning: The following kwargs were not used by contour: 'shade'\n",
            "  cp = ax.contourf(fcarrier, fam, sholo.T**0.25, cmap = 'jet', shade = 'nearest', levels=np.linspace(np.min(sholo.T)**0.25, np.max(sholo.T)**0.25, 40))\n"
          ]
        },
        {
          "output_type": "display_data",
          "data": {
            "text/plain": [
              "<Figure size 864x432 with 2 Axes>"
            ],
            "image/png": "[encoded data removed]"
          },
          "metadata": {
            "needs_background": "light"
          }
        }
      ]
    },
    {
      "cell_type": "code",
      "source": [],
      "metadata": {
        "id": "fqU7lR-K9H_u"
      },
      "execution_count": null,
      "outputs": []
    },
    {
      "cell_type": "code",
      "source": [
        "}#fcarrier\n",
        "#Vector of histogram bin centers for each carrier (first-level) frequency\n",
        "\n",
        "#fam\n",
        "#Vector of histogram bin centers for each amplitude modulation (second-level) frequency\n",
        "\n",
        "#holo\n",
        "#Holospectrum of input data."
      ],
      "metadata": {
        "id": "ghua3Rjr051c"
      },
      "execution_count": null,
      "outputs": []
    },
    {
      "cell_type": "markdown",
      "source": [
        "#zero padding"
      ],
      "metadata": {
        "id": "wdVIoJMLqlDs"
      }
    },
    {
      "cell_type": "code",
      "source": [
        "values = []\n",
        "\n",
        "for i in range(len(data)):\n",
        "  value=np.shape(data[i])\n",
        "  values.append(value)\n",
        "\n",
        "max_value = max(values)\n",
        "max_value = np.array(max_value)\n",
        "\n",
        "new_data = [] "
      ],
      "metadata": {
        "id": "v2NVMNzJsP0A"
      },
      "execution_count": null,
      "outputs": []
    },
    {
      "cell_type": "code",
      "source": [
        "#zero padding pra fazer a media \n",
        "\n",
        "data_padded = []\n",
        "width_list = []\n",
        "\n",
        "for i in range(len(data)):\n",
        "  if max(np.shape(data)) < max_value:\n",
        "    width = (max_value - max(np.shape(data[i])))/2\n",
        "    width_list.append(int(width))\n",
        "  data_padd = np.pad(data[i], width_list[i])\n",
        "  new_data.append(data_padd)\n"
      ],
      "metadata": {
        "id": "gkDRtvGThd-P",
        "colab": {
          "base_uri": "https://localhost:8080/"
        },
        "outputId": "8b4fb45a-e476-449f-e220-2de9a878b421"
      },
      "execution_count": null,
      "outputs": [
        {
          "output_type": "stream",
          "name": "stderr",
          "text": [
            "C:\\Users\\Camila\\anaconda3\\lib\\site-packages\\numpy\\core\\_asarray.py:83: VisibleDeprecationWarning: Creating an ndarray from ragged nested sequences (which is a list-or-tuple of lists-or-tuples-or ndarrays with different lengths or shapes) is deprecated. If you meant to do this, you must specify 'dtype=object' when creating the ndarray\n",
            "  return array(a, dtype, copy=False, order=order)\n"
          ]
        }
      ]
    },
    {
      "cell_type": "code",
      "source": [
        "#adicionar +1 zero nos arrays que ficaram com np.shape = (2333539,)\n",
        "\n",
        "for a in range(len(new_data)):\n",
        "  if float('.'.join(str(ele) for ele in np.shape(new_data[a]))) == 2333539:\n",
        "    print(a)\n",
        "    new_data[a] = np.append(new_data[a],0)\n",
        "  "
      ],
      "metadata": {
        "colab": {
          "base_uri": "https://localhost:8080/"
        },
        "id": "htGr-BYTQ_aY",
        "outputId": "c5af93b9-149c-4d61-fcd6-822b7305dbc6"
      },
      "execution_count": null,
      "outputs": [
        {
          "output_type": "stream",
          "name": "stdout",
          "text": [
            "3\n",
            "5\n",
            "11\n",
            "18\n",
            "22\n",
            "26\n",
            "27\n"
          ]
        }
      ]
    },
    {
      "cell_type": "code",
      "source": [
        "new_data = np.array(new_data)\n",
        "new_data = np.mean(new_data, axis=0)"
      ],
      "metadata": {
        "id": "ww0WQbw6-ess"
      },
      "execution_count": null,
      "outputs": []
    },
    {
      "cell_type": "markdown",
      "source": [
        "#testando um por um"
      ],
      "metadata": {
        "id": "IhBiF5AWkevu"
      }
    },
    {
      "cell_type": "code",
      "source": [
        "config = emd.sift.get_config('mask_sift')\n",
        "config['max_imfs'] = 7\n",
        "config['mask_freqs'] = 50/sample_rate\n",
        "config['mask_amp_mode'] = 'ratio_sig'\n",
        "config['imf_opts/sd_thresh'] = 0.05\n",
        "\n",
        "imf = emd.sift.mask_sift(new_data, **config)"
      ],
      "metadata": {
        "id": "ySKG3aG1khBu"
      },
      "execution_count": null,
      "outputs": []
    },
    {
      "cell_type": "code",
      "source": [
        "IP, IF, IA = emd.spectra.frequency_transform(imf, sample_rate, 'nht')"
      ],
      "metadata": {
        "id": "x4fR1Df0kron"
      },
      "execution_count": null,
      "outputs": []
    },
    {
      "cell_type": "code",
      "source": [
        "def mask_sift_second_layer(IA, masks, config={}):\n",
        "    imf2 = np.zeros((IA.shape[0], IA.shape[1], config['max_imfs']))\n",
        "    for ii in range(IA.shape[1]):\n",
        "        config['mask_freqs'] = masks[ii:]\n",
        "        tmp = emd.sift.mask_sift(IA[:, ii], **config)\n",
        "        imf2[:, ii, :tmp.shape[1]] = tmp\n",
        "    return imf2\n",
        "\n",
        "\n",
        "# Define sift parameters for the second level\n",
        "masks = np.array([25/2**ii for ii in range(12)])/sample_rate\n",
        "config = emd.sift.get_config('mask_sift')\n",
        "config['mask_amp_mode'] = 'ratio_sig'\n",
        "config['mask_amp'] = 2\n",
        "config['max_imfs'] = 5\n",
        "config['imf_opts/sd_thresh'] = 0.05\n",
        "config['envelope_opts/interp_method'] = 'mono_pchip'\n",
        "\n",
        "# Sift the first 5 first level IMFs\n",
        "imf2 = emd.sift.mask_sift_second_layer(IA, masks, sift_args=config)"
      ],
      "metadata": {
        "id": "IUZfr_pwksy9"
      },
      "execution_count": null,
      "outputs": []
    },
    {
      "cell_type": "code",
      "source": [
        "IP2, IF2, IA2 = emd.spectra.frequency_transform(imf2, sample_rate, 'nht')"
      ],
      "metadata": {
        "id": "SzOIEgyHkv14"
      },
      "execution_count": null,
      "outputs": []
    },
    {
      "cell_type": "code",
      "source": [
        "carrier_hist = (1, 50, 49)\n",
        "\n",
        "#and one for the amplitude modulations\n",
        "am_hist = (1e-2, 32, 64, 'log')\n",
        "\n",
        "#compute 1d HHT (power over carrier freq)\n",
        "fcarrier, spec = emd.spectra.hilberthuang(IF, IA, carrier_hist, sum_imfs=False)"
      ],
      "metadata": {
        "id": "bW_xOOHBkxPu"
      },
      "execution_count": null,
      "outputs": []
    },
    {
      "cell_type": "code",
      "source": [
        "fcarrier, hht = emd.spectra.hilberthuang(IF, IA, carrier_hist, sum_time=False)\n",
        "shht = ndimage.gaussian_filter(hht, 2)"
      ],
      "metadata": {
        "id": "7Wa0NrBhkzKt"
      },
      "execution_count": null,
      "outputs": []
    },
    {
      "cell_type": "code",
      "source": [
        "#fcarrier\n",
        "#Vector of histogram bin centers for each carrier (first-level) frequency\n",
        "\n",
        "#fam\n",
        "#Vector of histogram bin centers for each amplitude modulation (second-level) frequency\n",
        "\n",
        "#holo\n",
        "#Holospectrum of input data."
      ],
      "metadata": {
        "id": "2YM8MdfWzKVP"
      },
      "execution_count": null,
      "outputs": []
    },
    {
      "cell_type": "code",
      "source": [
        "fcarrier, fam, holo = emd.spectra.holospectrum(IF, IF2, IA2, carrier_hist, am_hist)\n"
      ],
      "metadata": {
        "id": "8Y7Iwa-Ik0Li"
      },
      "execution_count": null,
      "outputs": []
    },
    {
      "cell_type": "code",
      "source": [
        "sholo = ndimage.gaussian_filter(holo, 1)"
      ],
      "metadata": {
        "id": "8pwnCmtVlxEM"
      },
      "execution_count": null,
      "outputs": []
    }
  ]
}